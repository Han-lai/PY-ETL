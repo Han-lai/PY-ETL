{
 "cells": [
  {
   "cell_type": "code",
   "execution_count": 1,
   "metadata": {},
   "outputs": [
    {
     "name": "stderr",
     "output_type": "stream",
     "text": [
      "Building prefix dict from the default dictionary ...\n",
      "Loading model from cache C:\\Users\\BIGDAT~1\\AppData\\Local\\Temp\\jieba.cache\n",
      "Loading model cost 0.631 seconds.\n",
      "Prefix dict has been built successfully.\n"
     ]
    },
    {
     "name": "stdout",
     "output_type": "stream",
     "text": [
      "大家|好|，|我|叫|小|赫|，|今天|來|中央|大|學|大|數|據|班上|課|，|覺|得|非常|開|心|。\n",
      "大家|好|，|我|叫|小赫|，|今天|來|中央|大學大數|據|班上|課|，|覺得|非常|開心|。\n",
      "大家|好|，|我|叫|小赫|，|今天|來|中央|大學大數|據|班上|課|，|覺得|非常|開心|。\n",
      "大家|好|，|我|叫|小赫|，|今天|來|中央|大學大數|據|班上|課|，|覺得|非常|開心|。\n"
     ]
    }
   ],
   "source": [
    "import jieba\n",
    "s ='大家好，我叫小赫，今天來中央大學大數據班上課，覺得非常開心。'\n",
    "\n",
    "s1_list = jieba.cut(s, cut_all =True) #全模式 #回傳值類似list，實際上不是List 但特性很像\n",
    "s2_list = jieba.cut(s, cut_all =False)#精確模式\n",
    "s3_list = jieba.cut(s) #預設模式 預設模式其實就是精確模式\n",
    "s4_list = jieba.cut_for_search(s) #搜尋引擎模式\n",
    "\n",
    "print('|'.join(s1_list)) #join的用法，用\"|\"的符號隔開，中間的符號可以更改\n",
    "print('|'.join(s2_list))\n",
    "print('|'.join(s3_list))\n",
    "print('|'.join(s4_list))\n"
   ]
  },
  {
   "cell_type": "code",
   "execution_count": null,
   "metadata": {},
   "outputs": [],
   "source": []
  }
 ],
 "metadata": {
  "kernelspec": {
   "display_name": "Python 3",
   "language": "python",
   "name": "python3"
  },
  "language_info": {
   "codemirror_mode": {
    "name": "ipython",
    "version": 3
   },
   "file_extension": ".py",
   "mimetype": "text/x-python",
   "name": "python",
   "nbconvert_exporter": "python",
   "pygments_lexer": "ipython3",
   "version": "3.7.4"
  }
 },
 "nbformat": 4,
 "nbformat_minor": 4
}
